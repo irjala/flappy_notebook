{
 "cells": [
  {
   "cell_type": "markdown",
   "id": "c0a083d1",
   "metadata": {},
   "source": [
    "# Training model for \"solving\" flappy bird\n",
    "## Solution 2\n",
    "## NEAT (Neuroevolution of augmenting topologies)\n",
    "\n",
    "#### Credit 1, NEAT\n",
    "Kenneth Stanley and Risto Miikkulainen\n",
    "#### Credit 2, NEAT python\n",
    "https://neat-python.readthedocs.io/en/latest/\n",
    "#### Credit 3, first inspiration (yet it is a completely different source code)\n",
    "https://github.com/techwithtim/NEAT-Flappy-Bird\n",
    "#### Credit 4, source code for the game\n",
    "https://github.com/Talendar/flappy-bird-gym/tree/main/flappy_bird_gym/envs\n",
    "#### Credit 5, a solution using NEAT in an almost equally similar game provided a better foundation for a config file\n",
    "https://www.youtube.com/watch?v=rDwaeXuQaEI\n",
    "#### Credit 6, To help write code quicker i used Chat-GPT4. (Although in one case it introduced a stupid bug that ate a lot of hours)\n",
    "And it is still a very complicated process to build the functioning program\n",
    "https://chat.openai.com"
   ]
  },
  {
   "cell_type": "markdown",
   "id": "97027202",
   "metadata": {},
   "source": [
    "## Goal\n",
    "For my second solution i wanted to use a method that would perform like a flappy bird playing ubermensch!<br>\n",
    "My reasoning is that the power of Neural networks would be perfect as it is better equipped to handle continuous problems that can handle randomization aswell.<br>\n",
    "Whilst Q-learning performed admirably it could not advance from the level of pretty good without having much more finer details about the game progression added to it.\n",
    "\n",
    "## Environment (Same text as in solution 1)\n",
    "Open-AI has developed two flappy bird games for python gymnasium. The main one is a game that returns to the pictures to the state. The simplified one, the one i am using, returns some basic values:\n",
    "##### Distance to the next pipe\n",
    "##### The different in height between the bird and the middle of the pipe gap\n",
    "##### Reward\n",
    "##### Failure\n",
    "This in practice means that any trained model will be using a continous stream of three variables.\n",
    "##### Possible actions: To flap or not to flap (1 or 0)\n",
    "\n",
    "\n",
    "## Result\n",
    "It was a time consuming task to troubleshoot and get working, the rewards system especially was having some issues along with the usage of the networks output. But once it got the chance to learn it learned QUICKLY. I am amazed at the speed it completely solved how to play flappy birds."
   ]
  },
  {
   "cell_type": "markdown",
   "id": "db96f851",
   "metadata": {},
   "source": [
    "### First things first, error fixing for pip upgrades that will break the code"
   ]
  },
  {
   "cell_type": "code",
   "execution_count": 1,
   "id": "1d47da8a",
   "metadata": {
    "scrolled": true
   },
   "outputs": [
    {
     "name": "stdout",
     "output_type": "stream",
     "text": [
      "Defaulting to user installation because normal site-packages is not writeable\n",
      "Requirement already satisfied: setuptools==65.5.0 in c:\\users\\islice\\appdata\\roaming\\python\\python39\\site-packages (65.5.0)\n",
      "Requirement already satisfied: pip==21 in c:\\users\\islice\\appdata\\roaming\\python\\python39\\site-packages (21.0)\n",
      "Note: you may need to restart the kernel to use updated packages.\n"
     ]
    },
    {
     "name": "stderr",
     "output_type": "stream",
     "text": [
      "WARNING: You are using pip version 21.0; however, version 23.3.1 is available.\n",
      "You should consider upgrading via the 'C:\\ProgramData\\Anaconda3\\python.exe -m pip install --upgrade pip' command.\n"
     ]
    }
   ],
   "source": [
    "pip install setuptools==65.5.0 pip==21"
   ]
  },
  {
   "cell_type": "code",
   "execution_count": 2,
   "id": "7bf5c877",
   "metadata": {},
   "outputs": [
    {
     "name": "stdout",
     "output_type": "stream",
     "text": [
      "Defaulting to user installation because normal site-packages is not writeable\n",
      "Requirement already satisfied: wheel==0.38.0 in c:\\users\\islice\\appdata\\roaming\\python\\python39\\site-packages (0.38.0)\n",
      "Requirement already satisfied: setuptools>=57.0.0 in c:\\users\\islice\\appdata\\roaming\\python\\python39\\site-packages (from wheel==0.38.0) (65.5.0)\n",
      "Note: you may need to restart the kernel to use updated packages.\n"
     ]
    },
    {
     "name": "stderr",
     "output_type": "stream",
     "text": [
      "WARNING: You are using pip version 21.0; however, version 23.3.1 is available.\n",
      "You should consider upgrading via the 'C:\\ProgramData\\Anaconda3\\python.exe -m pip install --upgrade pip' command.\n"
     ]
    }
   ],
   "source": [
    "pip install wheel==0.38.0"
   ]
  },
  {
   "cell_type": "code",
   "execution_count": 3,
   "id": "4361419b",
   "metadata": {
    "scrolled": true
   },
   "outputs": [
    {
     "name": "stdout",
     "output_type": "stream",
     "text": [
      "Defaulting to user installation because normal site-packages is not writeable\n",
      "Requirement already satisfied: flappy-bird-gym in c:\\users\\islice\\appdata\\roaming\\python\\python39\\site-packages (0.3.0)\n",
      "Requirement already satisfied: numpy~=1.19.5 in c:\\users\\islice\\appdata\\roaming\\python\\python39\\site-packages (from flappy-bird-gym) (1.19.5)\n",
      "Requirement already satisfied: pygame~=2.0.1 in c:\\users\\islice\\appdata\\roaming\\python\\python39\\site-packages (from flappy-bird-gym) (2.0.3)\n",
      "Requirement already satisfied: gym~=0.18.0 in c:\\users\\islice\\appdata\\roaming\\python\\python39\\site-packages (from flappy-bird-gym) (0.18.3)\n",
      "Requirement already satisfied: cloudpickle<1.7.0,>=1.2.0 in c:\\users\\islice\\appdata\\roaming\\python\\python39\\site-packages (from gym~=0.18.0->flappy-bird-gym) (1.6.0)\n",
      "Requirement already satisfied: Pillow<=8.2.0 in c:\\users\\islice\\appdata\\roaming\\python\\python39\\site-packages (from gym~=0.18.0->flappy-bird-gym) (8.2.0)\n",
      "Requirement already satisfied: pyglet<=1.5.15,>=1.4.0 in c:\\users\\islice\\appdata\\roaming\\python\\python39\\site-packages (from gym~=0.18.0->flappy-bird-gym) (1.5.15)\n",
      "Requirement already satisfied: scipy in c:\\programdata\\anaconda3\\lib\\site-packages (from gym~=0.18.0->flappy-bird-gym) (1.9.1)\n",
      "Note: you may need to restart the kernel to use updated packages.\n"
     ]
    },
    {
     "name": "stderr",
     "output_type": "stream",
     "text": [
      "WARNING: You are using pip version 21.0; however, version 23.3.1 is available.\n",
      "You should consider upgrading via the 'C:\\ProgramData\\Anaconda3\\python.exe -m pip install --upgrade pip' command.\n"
     ]
    }
   ],
   "source": [
    "pip install flappy-bird-gym"
   ]
  },
  {
   "cell_type": "code",
   "execution_count": 4,
   "id": "159c1a50",
   "metadata": {
    "scrolled": true
   },
   "outputs": [
    {
     "name": "stdout",
     "output_type": "stream",
     "text": [
      "Note: you may need to restart the kernel to use updated packages.Defaulting to user installation because normal site-packages is not writeable\n",
      "Requirement already satisfied: matplotlib in c:\\programdata\\anaconda3\\lib\\site-packages (3.5.2)\n",
      "Requirement already satisfied: pillow>=6.2.0 in c:\\users\\islice\\appdata\\roaming\\python\\python39\\site-packages (from matplotlib) (8.2.0)\n",
      "Requirement already satisfied: kiwisolver>=1.0.1 in c:\\programdata\\anaconda3\\lib\\site-packages (from matplotlib) (1.4.2)\n",
      "Requirement already satisfied: cycler>=0.10 in c:\\programdata\\anaconda3\\lib\\site-packages (from matplotlib) (0.11.0)\n",
      "Requirement already satisfied: python-dateutil>=2.7 in c:\\programdata\\anaconda3\\lib\\site-packages (from matplotlib) (2.8.2)\n",
      "Requirement already satisfied: fonttools>=4.22.0 in c:\\programdata\\anaconda3\\lib\\site-packages (from matplotlib) (4.25.0)\n",
      "Requirement already satisfied: pyparsing>=2.2.1 in c:\\programdata\\anaconda3\\lib\\site-packages (from matplotlib) (3.0.9)\n",
      "Requirement already satisfied: packaging>=20.0 in c:\\programdata\\anaconda3\\lib\\site-packages (from matplotlib) (21.3)\n",
      "Requirement already satisfied: numpy>=1.17 in c:\\users\\islice\\appdata\\roaming\\python\\python39\\site-packages (from matplotlib) (1.19.5)\n",
      "Requirement already satisfied: six>=1.5 in c:\\programdata\\anaconda3\\lib\\site-packages (from python-dateutil>=2.7->matplotlib) (1.16.0)\n",
      "\n"
     ]
    },
    {
     "name": "stderr",
     "output_type": "stream",
     "text": [
      "WARNING: You are using pip version 21.0; however, version 23.3.1 is available.\n",
      "You should consider upgrading via the 'C:\\ProgramData\\Anaconda3\\python.exe -m pip install --upgrade pip' command.\n"
     ]
    }
   ],
   "source": [
    "pip install matplotlib"
   ]
  },
  {
   "cell_type": "code",
   "execution_count": 5,
   "id": "19663247",
   "metadata": {},
   "outputs": [
    {
     "name": "stdout",
     "output_type": "stream",
     "text": [
      "Defaulting to user installation because normal site-packages is not writeable\n",
      "Requirement already satisfied: neat-python in c:\\users\\islice\\appdata\\roaming\\python\\python39\\site-packages (0.92)\n",
      "Note: you may need to restart the kernel to use updated packages.\n"
     ]
    },
    {
     "name": "stderr",
     "output_type": "stream",
     "text": [
      "WARNING: You are using pip version 21.0; however, version 23.3.1 is available.\n",
      "You should consider upgrading via the 'C:\\ProgramData\\Anaconda3\\python.exe -m pip install --upgrade pip' command.\n"
     ]
    }
   ],
   "source": [
    "pip install neat-python"
   ]
  },
  {
   "cell_type": "code",
   "execution_count": 6,
   "id": "897364c3",
   "metadata": {},
   "outputs": [],
   "source": [
    "import numpy as np\n",
    "import flappy_bird_gym\n",
    "import matplotlib.pyplot as plt\n",
    "import time\n",
    "import neat\n",
    "import math"
   ]
  },
  {
   "cell_type": "markdown",
   "id": "bab6d849",
   "metadata": {
    "scrolled": true
   },
   "source": [
    "## Main training function"
   ]
  },
  {
   "cell_type": "code",
   "execution_count": 7,
   "id": "5d3f435d",
   "metadata": {},
   "outputs": [
    {
     "name": "stdout",
     "output_type": "stream",
     "text": [
      "\n",
      " ****** Running generation 0 ****** \n",
      "\n",
      "Population's average fitness: 59.53094 stdev: 33.39812\n",
      "Best fitness: 99.46321 - size: (1, 3) - species 1 - id 4\n",
      "Average adjusted fitness: 0.445\n",
      "Mean genetic distance 1.495, standard deviation 0.387\n",
      "Population of 15 members in 1 species:\n",
      "   ID   age  size  fitness  adj fit  stag\n",
      "  ====  ===  ====  =======  =======  ====\n",
      "     1    0    15     99.5    0.445     0\n",
      "Total extinctions: 0\n",
      "Generation time: 0.016 sec\n",
      "\n",
      " ****** Running generation 1 ****** \n",
      "\n",
      "Population's average fitness: 86.25743 stdev: 23.41262\n",
      "Best fitness: 100.07218 - size: (1, 3) - species 1 - id 7\n",
      "Average adjusted fitness: 0.809\n",
      "Mean genetic distance 1.175, standard deviation 0.398\n",
      "Population of 15 members in 1 species:\n",
      "   ID   age  size  fitness  adj fit  stag\n",
      "  ====  ===  ====  =======  =======  ====\n",
      "     1    1    15    100.1    0.809     0\n",
      "Total extinctions: 0\n",
      "Generation time: 0.021 sec (0.018 average)\n",
      "\n",
      " ****** Running generation 2 ****** \n",
      "\n",
      "Population's average fitness: 124.01889 stdev: 112.15235\n",
      "Best fitness: 537.11846 - size: (1, 2) - species 1 - id 37\n",
      "Average adjusted fitness: 0.189\n",
      "Mean genetic distance 1.246, standard deviation 0.562\n",
      "Population of 15 members in 1 species:\n",
      "   ID   age  size  fitness  adj fit  stag\n",
      "  ====  ===  ====  =======  =======  ====\n",
      "     1    2    15    537.1    0.189     0\n",
      "Total extinctions: 0\n",
      "Generation time: 0.029 sec (0.022 average)\n",
      "\n",
      " ****** Running generation 3 ****** \n",
      "\n",
      "Population's average fitness: 13984.26142 stdev: 49523.37992\n",
      "Best fitness: 199112.52325 - size: (1, 1) - species 1 - id 45\n",
      "\n",
      "Best individual in generation 3 meets fitness threshold - complexity: (1, 1)\n",
      "\n",
      "Best genome:\n",
      "Key: 45\n",
      "Fitness: 199112.52325158732\n",
      "Nodes:\n",
      "\t0 DefaultNodeGene(key=0, bias=0.2629625525083815, response=1.0, activation=tanh, aggregation=sum)\n",
      "Connections:\n",
      "\tDefaultConnectionGene(key=(-2, 0), weight=-2.5136336187844392, enabled=True)\n"
     ]
    }
   ],
   "source": [
    "#config = neat.Config(neat.DefaultGenome, neat.DefaultReproduction,\n",
    "#                     neat.DefaultSpeciesSet, neat.DefaultStagnation,\n",
    "#                     'config.ini')\n",
    "\n",
    "config = neat.Config(neat.DefaultGenome, neat.DefaultReproduction,\n",
    "                     neat.DefaultSpeciesSet, neat.DefaultStagnation,\n",
    "                     'alt-conf.ini')\n",
    "\n",
    "# Create the population, which is the top-level object for a NEAT run.\n",
    "p = neat.Population(config)\n",
    "\n",
    "# Add a stdout reporter to show progress in the terminal.\n",
    "p.add_reporter(neat.StdOutReporter(True))\n",
    "stats = neat.StatisticsReporter()\n",
    "p.add_reporter(stats)\n",
    "\n",
    "\n",
    "\n",
    "# Define the evaluation function\n",
    "def eval_genomes(genomes, config):\n",
    "    for genome_id, genome in genomes:\n",
    "        genome.fitness = 0\n",
    "        net = neat.nn.RecurrentNetwork.create(genome, config)\n",
    "\n",
    "        env = flappy_bird_gym.make(\"FlappyBird-v0\", pipe_gap=150)\n",
    "        observation = env.reset()\n",
    "\n",
    "        # Initialize the last vertical position of the bird\n",
    "        last_bird_vertical_position = observation[1]\n",
    "\n",
    "        while True:\n",
    "            # Current state values\n",
    "            pipe_horizontal_distance = observation[0]\n",
    "            bird_vertical_position = observation[1]\n",
    "\n",
    "            # Calculate the vertical movement of the bird\n",
    "            bird_vertical_movement = bird_vertical_position - last_bird_vertical_position\n",
    "\n",
    "            # Update the last bird vertical position for the next frame\n",
    "            last_bird_vertical_position = bird_vertical_position\n",
    "\n",
    "            # Prepare the input for the network\n",
    "            inputs = [pipe_horizontal_distance, bird_vertical_position, bird_vertical_movement]\n",
    "\n",
    "            # Activate the network to get the action\n",
    "            output = net.activate(inputs)\n",
    "            \n",
    "            threshold = 0.5\n",
    "            \n",
    "            action = 1 if output[0] > threshold else 0\n",
    "          \n",
    "            \n",
    "        \n",
    "            action_reward = 0\n",
    "            if action > 0:\n",
    "                action_reward = 0.2\n",
    "            \n",
    "            # Step the environment\n",
    "            observation, reward, done, _ = env.step(action)\n",
    "\n",
    "            # Exponential negative reward based on distance\n",
    "            negative_reward = -0.15 * math.exp(bird_vertical_position)\n",
    "\n",
    "            # Add the exponential negative reward and a small constant reward for taking an action\n",
    "            genome.fitness += negative_reward + action_reward + reward\n",
    "\n",
    "            if done:\n",
    "                break\n",
    "\n",
    "\n",
    "\n",
    "\n",
    "\n",
    "# Run the NEAT algorithm for a maximum number of generations\n",
    "winner = p.run(eval_genomes, 100)\n",
    "\n",
    "# Display the winning genome\n",
    "print('\\nBest genome:\\n{!s}'.format(winner))"
   ]
  },
  {
   "cell_type": "markdown",
   "id": "1016aeee",
   "metadata": {},
   "source": [
    "## Function to determine a good player from the trained population"
   ]
  },
  {
   "cell_type": "code",
   "execution_count": 8,
   "id": "5ebac14e",
   "metadata": {},
   "outputs": [],
   "source": [
    "def play_game_with_best_genome(winner_genome, config):\n",
    "    # Create the network using the best genome\n",
    "    net = neat.nn.RecurrentNetwork.create(winner_genome, config)\n",
    "\n",
    "    # Create the game environment\n",
    "    screen_width = 288  # Example width\n",
    "    screen_height = 512  # Example height\n",
    "    env = flappy_bird_gym.make(\"FlappyBird-v0\", screen_size=(screen_width, screen_height), pipe_gap=150)\n",
    "\n",
    "    # Reset the environment and get the initial state\n",
    "    observation = env.reset()\n",
    "\n",
    "    # Initialize the last vertical position of the bird\n",
    "    last_bird_vertical_position = observation[1]\n",
    "\n",
    "    while True:\n",
    "        env.render()  # Visualize the game\n",
    "        time.sleep(1 / 30)  # FPS\n",
    "        \n",
    "        # Current state values\n",
    "        pipe_horizontal_distance = observation[0]\n",
    "        bird_vertical_position = observation[1]\n",
    "\n",
    "            # Calculate the vertical movement of the bird\n",
    "        bird_vertical_movement = bird_vertical_position - last_bird_vertical_position\n",
    "\n",
    "            # Update the last bird vertical position for the next frame\n",
    "        last_bird_vertical_position = bird_vertical_position\n",
    "\n",
    "            # Prepare the input for the network\n",
    "        inputs = [pipe_horizontal_distance, bird_vertical_position, bird_vertical_movement]\n",
    "\n",
    "            # Activate the network to get the action\n",
    "        output = net.activate(inputs)\n",
    "          \n",
    "        threshold = 0.5\n",
    "            \n",
    "        action = 1 if output[0] > threshold else 0\n",
    "     \n",
    "            \n",
    "        \n",
    "        action_reward = 0\n",
    "        if action > 0:\n",
    "            action_reward = 0.2\n",
    "            \n",
    "            # Step the environment\n",
    "        observation, reward, done, _ = env.step(action)\n",
    "\n",
    "            # Exponential negative reward based on distance\n",
    "        negative_reward = -0.15 * math.exp(bird_vertical_position)\n",
    "\n",
    "            # Add the exponential negative reward and a small constant reward for taking an action\n",
    "        winner_genome.fitness += negative_reward + action_reward + reward\n",
    "\n",
    "        if done:\n",
    "            break\n",
    "\n",
    "    env.close()"
   ]
  },
  {
   "cell_type": "markdown",
   "id": "59083051",
   "metadata": {},
   "source": [
    "## Save"
   ]
  },
  {
   "cell_type": "code",
   "execution_count": 10,
   "id": "450093d8",
   "metadata": {},
   "outputs": [
    {
     "name": "stdout",
     "output_type": "stream",
     "text": [
      "\n",
      " ****** Running generation 3 ****** \n",
      "\n",
      "Population's average fitness: 24294.40830 stdev: 90381.69384\n",
      "Best fitness: 362471.27324 - size: (1, 1) - species 1 - id 45\n",
      "\n",
      "Best individual in generation 3 meets fitness threshold - complexity: (1, 1)\n"
     ]
    }
   ],
   "source": [
    "import pickle\n",
    "\n",
    "winner = p.run(eval_genomes, 50)\n",
    "\n",
    "# Save the population\n",
    "with open('neat_population.pkl', 'wb') as output:\n",
    "    pickle.dump(p, output, pickle.HIGHEST_PROTOCOL)\n",
    "\n",
    "# Optionally, save the winner separately\n",
    "with open('neat_winner.pkl', 'wb') as output:\n",
    "    pickle.dump(winner, output, pickle.HIGHEST_PROTOCOL)"
   ]
  },
  {
   "cell_type": "markdown",
   "id": "496f7991",
   "metadata": {},
   "source": [
    "## Load and play"
   ]
  },
  {
   "cell_type": "code",
   "execution_count": 11,
   "id": "9d9e6e5e",
   "metadata": {
    "scrolled": false
   },
   "outputs": [
    {
     "name": "stdout",
     "output_type": "stream",
     "text": [
      "\n",
      " ****** Running generation 3 ****** \n",
      "\n",
      "Population's average fitness: 26606.55879 stdev: 92791.57017\n",
      "Best fitness: 373076.35391 - size: (1, 1) - species 1 - id 45\n",
      "\n",
      "Best individual in generation 3 meets fitness threshold - complexity: (1, 1)\n"
     ]
    },
    {
     "ename": "KeyboardInterrupt",
     "evalue": "",
     "output_type": "error",
     "traceback": [
      "\u001b[1;31m---------------------------------------------------------------------------\u001b[0m",
      "\u001b[1;31mKeyboardInterrupt\u001b[0m                         Traceback (most recent call last)",
      "\u001b[1;32m~\\AppData\\Local\\Temp\\ipykernel_28288\\1330595209.py\u001b[0m in \u001b[0;36m<module>\u001b[1;34m\u001b[0m\n\u001b[0;32m     12\u001b[0m \u001b[1;33m\u001b[0m\u001b[0m\n\u001b[0;32m     13\u001b[0m \u001b[1;31m# Play a game with the best genome\u001b[0m\u001b[1;33m\u001b[0m\u001b[1;33m\u001b[0m\u001b[0m\n\u001b[1;32m---> 14\u001b[1;33m \u001b[0mplay_game_with_best_genome\u001b[0m\u001b[1;33m(\u001b[0m\u001b[0mwinner\u001b[0m\u001b[1;33m,\u001b[0m \u001b[0mconfig\u001b[0m\u001b[1;33m)\u001b[0m\u001b[1;33m\u001b[0m\u001b[1;33m\u001b[0m\u001b[0m\n\u001b[0m",
      "\u001b[1;32m~\\AppData\\Local\\Temp\\ipykernel_28288\\2503987401.py\u001b[0m in \u001b[0;36mplay_game_with_best_genome\u001b[1;34m(winner_genome, config)\u001b[0m\n\u001b[0;32m     16\u001b[0m     \u001b[1;32mwhile\u001b[0m \u001b[1;32mTrue\u001b[0m\u001b[1;33m:\u001b[0m\u001b[1;33m\u001b[0m\u001b[1;33m\u001b[0m\u001b[0m\n\u001b[0;32m     17\u001b[0m         \u001b[0menv\u001b[0m\u001b[1;33m.\u001b[0m\u001b[0mrender\u001b[0m\u001b[1;33m(\u001b[0m\u001b[1;33m)\u001b[0m  \u001b[1;31m# Visualize the game\u001b[0m\u001b[1;33m\u001b[0m\u001b[1;33m\u001b[0m\u001b[0m\n\u001b[1;32m---> 18\u001b[1;33m         \u001b[0mtime\u001b[0m\u001b[1;33m.\u001b[0m\u001b[0msleep\u001b[0m\u001b[1;33m(\u001b[0m\u001b[1;36m1\u001b[0m \u001b[1;33m/\u001b[0m \u001b[1;36m30\u001b[0m\u001b[1;33m)\u001b[0m  \u001b[1;31m# FPS\u001b[0m\u001b[1;33m\u001b[0m\u001b[1;33m\u001b[0m\u001b[0m\n\u001b[0m\u001b[0;32m     19\u001b[0m \u001b[1;33m\u001b[0m\u001b[0m\n\u001b[0;32m     20\u001b[0m         \u001b[1;31m# Current state values\u001b[0m\u001b[1;33m\u001b[0m\u001b[1;33m\u001b[0m\u001b[0m\n",
      "\u001b[1;31mKeyboardInterrupt\u001b[0m: "
     ]
    }
   ],
   "source": [
    "# Load the population\n",
    "with open('neat_population.pkl', 'rb') as input_file:\n",
    "    p = pickle.load(input_file)\n",
    "\n",
    "# Optionally, load the winner\n",
    "with open('neat_winner.pkl', 'rb') as input_file:\n",
    "    winner = pickle.load(input_file)\n",
    "\n",
    "p.run(eval_genomes, 50)\n",
    "\n",
    "# Play a game with the best genome\n",
    "play_game_with_best_genome(winner, config)"
   ]
  },
  {
   "cell_type": "markdown",
   "id": "07a5e4ca",
   "metadata": {},
   "source": [
    "## Just play"
   ]
  },
  {
   "cell_type": "code",
   "execution_count": null,
   "id": "40e0278a",
   "metadata": {},
   "outputs": [],
   "source": [
    "play_game_with_best_genome(winner, config)"
   ]
  }
 ],
 "metadata": {
  "kernelspec": {
   "display_name": "Python 3 (ipykernel)",
   "language": "python",
   "name": "python3"
  },
  "language_info": {
   "codemirror_mode": {
    "name": "ipython",
    "version": 3
   },
   "file_extension": ".py",
   "mimetype": "text/x-python",
   "name": "python",
   "nbconvert_exporter": "python",
   "pygments_lexer": "ipython3",
   "version": "3.9.13"
  }
 },
 "nbformat": 4,
 "nbformat_minor": 5
}
